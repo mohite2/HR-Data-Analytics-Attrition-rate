{
 "cells": [
  {
   "cell_type": "markdown",
   "metadata": {},
   "source": [
    "# Homework 05 : Sayali Mohite"
   ]
  },
  {
   "cell_type": "markdown",
   "metadata": {},
   "source": [
    "The purpose of this assignment is to get practice with interactivity using the ipywidgets interface and to think carefully about how our data (and its types) can effect our design choices.\n",
    "\n",
    "You can use \"ipywidgets.interact\" or if you want more practice, place construct your widgets.\n",
    "1. Using traitlets and/or widgets build a notebook that:\n",
    "\n",
    ". Allows the user to change the x and y fields on a scatter plot from the UFO dataset.  Here the \"fields\" are the names of the columns in the dataset.  (Do you want the user to be able to pick any 2 columns?  Or only certain columns?  Why or why not?). You must support the selection of at least 1 categorical column and at least 1 numerical column in for each of x and y.  Note: you don't have to support both axis having a categorical variable (unless you really want to!).\n",
    "\n",
    ". Allows the user to pick their colormap.  In class we used the log of the duration in seconds as our color scaling, you can use this or something else (or if you *really* want to get fancy you can let the user decide by using a widget!)\n",
    "\n",
    "2. Build a second widget that displays binned, aggregate values of a column where you can change:\n",
    ". The field to \"bin\".  (Do you want the user to be able to pick any 2 columns?  Or only certain columns?  Why or why not?). You must support the selection of at least 1 categorical column and at least 1 numerical column.\n",
    "\n",
    ". For numerical variables: The number of bins."
   ]
  },
  {
   "cell_type": "code",
   "execution_count": null,
   "metadata": {},
   "outputs": [],
   "source": []
  },
  {
   "cell_type": "code",
   "execution_count": 158,
   "metadata": {},
   "outputs": [],
   "source": [
    "%matplotlib inline\n",
    "import pandas as pd\n",
    "import matplotlib.pyplot as plt\n",
    "import numpy as np\n",
    "import ipywidgets\n",
    "import matplotlib.colors as mpl_colors\n"
   ]
  },
  {
   "cell_type": "markdown",
   "metadata": {},
   "source": [
    "### Loading the UFO_dataset with "
   ]
  },
  {
   "cell_type": "code",
   "execution_count": 159,
   "metadata": {},
   "outputs": [],
   "source": [
    "# So, we can apply these ideas to 2D datasets as well\n",
    "# lets use a different dataset:\n",
    "ufos = pd.read_csv(\"C:\\\\Users\\\\12172\\\\Desktop\\\\Data Visulization\\\\Assignment 05\\\\ufo-scrubbed-geocoded-time-standardized-00.csv\",\n",
    "                  names = [\"date\", \"city\", \"state\", \"country\",\"shape\", \"duration_seconds\", \"duration\",\n",
    "                          \"comment\", \"report_date\", \"latitude\", \"longitude\"],\n",
    "                  parse_dates = [\"date\", \"report_date\"])\n",
    "\n",
    "# you might get a memory warning thing, its just not deprecated correctly\n",
    "#  try not to panic :D\n"
   ]
  },
  {
   "cell_type": "markdown",
   "metadata": {},
   "source": [
    "### Replacing null values within the select columns"
   ]
  },
  {
   "cell_type": "code",
   "execution_count": 160,
   "metadata": {},
   "outputs": [
    {
     "data": {
      "text/plain": [
       "15"
      ]
     },
     "execution_count": 160,
     "metadata": {},
     "output_type": "execute_result"
    }
   ],
   "source": [
    "ufos = ufos.fillna({'country':'unknown', 'state': 'unknown', 'shape':'unknown'})\n",
    "ufos.isna().values.sum()"
   ]
  },
  {
   "cell_type": "code",
   "execution_count": 161,
   "metadata": {},
   "outputs": [
    {
     "data": {
      "text/plain": [
       "[<matplotlib.lines.Line2D at 0x231075e3bc8>]"
      ]
     },
     "execution_count": 161,
     "metadata": {},
     "output_type": "execute_result"
    },
    {
     "data": {
      "image/png": "[encoded data removed]",
      "text/plain": [
       "<Figure size 432x288 with 1 Axes>"
      ]
     },
     "metadata": {
      "needs_background": "light"
     },
     "output_type": "display_data"
    }
   ],
   "source": [
    "plt.plot(ufos['longitude'],ufos['latitude'],'.')"
   ]
  },
  {
   "cell_type": "markdown",
   "metadata": {},
   "source": [
    "### Lets down sample to 1000 samples:"
   ]
  },
  {
   "cell_type": "code",
   "execution_count": 162,
   "metadata": {},
   "outputs": [
    {
     "data": {
      "text/plain": [
       "array([23465, 70339, 57744, 51811,   113, 19586, 75052, 59158, 58842,\n",
       "       56026, 24300,  1574, 25200, 54099, 21520, 74241, 13788, 64402,\n",
       "        7008, 57954,  5667, 22415,  4408, 54560, 31055, 73645, 61055,\n",
       "       27373, 71421, 65244, 25892, 15450, 58350, 18027, 52294, 17946,\n",
       "        5524, 73280, 22417, 15257, 34894, 74952,  2590, 38367, 54345,\n",
       "       18042, 11044, 50467, 65414, 63803,  1090, 64046, 39406, 64618,\n",
       "        4214, 49568, 13793, 64444, 34580, 48942, 47089, 19214, 47703,\n",
       "       48320, 64763, 57640, 14150, 52921,  9653,  6723, 78851, 42353,\n",
       "       61037, 35031, 22000,  3913, 10707, 50960, 56258, 78207, 77688,\n",
       "       35706,   953, 58711, 43095, 76735, 61473, 26978, 42865, 14810,\n",
       "       48917, 20278, 43092, 37340, 40726, 61018, 33003, 32019, 28210,\n",
       "       70295, 36822, 14993, 27980, 44071, 24128, 12017, 17412, 36665,\n",
       "       50425,  3374, 45678, 49945, 59502, 18464, 69827, 68946,  9255,\n",
       "       48627,    62, 61775, 41138, 22405, 70099, 17884, 17777, 60944,\n",
       "       73942, 39641, 26836, 64619, 44605, 12658, 65831,  3027, 29582,\n",
       "       18740, 68347, 51593, 58116, 40893, 71447, 72537, 30307,  4802,\n",
       "        8460,  9594, 16523, 50555, 75243,  3277,  5625, 58502, 38831,\n",
       "       53841, 42210, 57629, 50328, 52366, 59545, 43554, 39359, 69745,\n",
       "       55672, 43589, 79824, 26950, 65125, 67501, 19170, 61352, 75894,\n",
       "        3418, 18793,  2470, 53914, 25145, 72317, 21978, 31726, 19605,\n",
       "       32301, 51122,  3835, 74109, 24485, 76373, 72483, 45645, 76280,\n",
       "       13052, 77097, 55761, 46718, 52510, 23052, 30070, 34720, 17905,\n",
       "       54450, 33122, 47752, 54377, 48175, 67847, 59172, 40283, 60397,\n",
       "       37403, 75691, 17097, 21115, 78475, 43960, 49067, 33349, 49148,\n",
       "       71394, 43854, 16927, 24334, 79925, 29180, 42172, 73306,  2450,\n",
       "       20779, 55768, 22020, 78926, 69373, 72620, 47250, 10234, 35689,\n",
       "       10910,  2534, 79556, 71661, 24167, 14072, 45094, 59273, 37554,\n",
       "       71455, 54339, 67013, 51620, 65978, 77491, 33683, 54165, 54535,\n",
       "       51309,   829, 63863, 56847, 77992, 35270, 64511, 14604, 11820,\n",
       "       15283,  5934, 63830, 52458, 35905, 56327, 47797, 40100, 40389,\n",
       "       43254, 15812, 51890, 62520, 63812, 13078, 43834, 21298, 28640,\n",
       "       57787, 61968, 65289,  8552, 70072, 24328, 10956, 54578, 47920,\n",
       "       16540, 12594, 64709, 36354, 38863,  3005, 18923, 33556, 69004,\n",
       "       32919, 24854, 55163, 65505, 37183, 30354, 65617, 16626, 45205,\n",
       "       58237, 71569, 71465, 44925, 75053, 47679, 52662, 66996, 68690,\n",
       "       26988, 46973, 78572, 53379,  1106, 20296, 73898, 20136, 23864,\n",
       "       32600, 44152, 27757, 34439, 29833, 38913, 49627, 42552, 65001,\n",
       "        3702, 65102, 33914, 79629, 54686, 43157, 30446, 76314, 52788,\n",
       "       66205, 12768, 77206, 25109, 78167, 43786, 32565, 45127, 66403,\n",
       "       50373, 27502, 74717, 62004, 30057, 44751,  3576,  1810, 45844,\n",
       "       38091,  9158, 27102, 52663, 78350,    41, 26090, 26521, 31806,\n",
       "       19865, 10717, 79168, 20080, 33290,  3468, 59315, 30841, 62673,\n",
       "       73714, 18301, 19367,  4365, 58262, 24436, 46675, 68756, 41398,\n",
       "       68068, 10008, 39453, 69059, 68521, 46573, 62759,   803, 37674,\n",
       "       50224, 46315, 23940, 40015, 21188, 48389, 70022, 21995, 18192,\n",
       "       66848, 55658, 55859, 76716, 35882, 45427, 16719, 21393, 54647,\n",
       "       18206, 44482, 63274, 29578, 31632, 10339, 22639, 33722, 67554,\n",
       "       36761, 58075, 25555, 49458, 37007, 69503, 14533, 70209, 70583,\n",
       "        5493, 35007, 32621, 64107, 26061, 57442, 13004, 16658,  2974,\n",
       "       64591, 38690, 73662,  9792, 55810,  5817, 65779, 75010,  1130,\n",
       "        9776, 52354, 71781, 45147, 20715, 35802, 63180, 30836, 34841,\n",
       "        2352, 20366, 28767, 75083, 69894, 23013, 59782, 31808, 76555,\n",
       "       51703, 32630, 78942, 58282, 67957, 44543, 11319,  8938, 70088,\n",
       "       19255, 24146,  5306, 77508, 70034,  3975, 19940, 38292, 61035,\n",
       "       49211, 55380, 49303, 14199, 30293, 66241, 33522, 16154, 48362,\n",
       "        8330, 17736, 69691, 62716, 60690, 43016, 22855, 56627, 59887,\n",
       "       61551, 72582, 40777, 40318,  5976, 73999, 35038,  2658,  9962,\n",
       "       10168, 11838, 59365, 76092,  6311, 45185,  1073, 68405, 49846,\n",
       "       57006, 74869, 15564, 25703,  3732, 66270,  1750, 66353, 67908,\n",
       "       26598, 39603, 64498,  4032, 26394, 11406, 70748, 45453, 66586,\n",
       "       34563, 69381, 60203, 22744, 41081, 77208, 35189,  4394, 29424,\n",
       "       26189, 11922, 32867, 16694, 74892, 26854, 37904, 65196, 71507,\n",
       "       49985, 47386, 53895, 74947, 62269, 43385, 39498, 60257, 66400,\n",
       "       77110,  4968, 42480, 66307, 74021, 58289,  3488, 75802, 79158,\n",
       "       22770, 47629, 53155, 40843, 61696, 67266, 54399, 31763, 44240,\n",
       "       23135, 48428, 78524, 78114, 60351, 28707,  7626, 65576, 65885,\n",
       "       65942, 68717, 21023, 74953, 55991, 53554, 28042, 24964, 20208,\n",
       "       10637,  9113, 46487, 58659, 14660, 72882, 18698, 36818, 57165,\n",
       "       16875, 78644, 10147, 69249, 73734, 76050, 75654,  2869, 54538,\n",
       "       40013, 46027,  9378, 31080, 31743, 39600, 15656, 10809, 32236,\n",
       "       16047, 59966, 50189,  8851, 71952, 30971, 30695, 57160, 30682,\n",
       "       45465, 14357, 47363, 74423,  1544, 12013, 62245, 55512,  4975,\n",
       "       12210, 56045, 22968, 28257, 77945, 33018, 15858, 11157, 31750,\n",
       "       50776, 69196,  2341, 70640, 24963, 74421, 70281, 76739, 20146,\n",
       "       59680, 33014, 71852, 58209, 22519, 79218, 51781, 67264, 48916,\n",
       "       30108, 25142,  5350, 60415, 24407, 26468, 35863, 62062, 72660,\n",
       "       27220, 23793,  5683, 71916, 61031, 65747, 64124, 12160, 35148,\n",
       "       73295, 38079, 60698, 60342,  5889, 50790, 75368, 69998, 64975,\n",
       "        5158, 48672, 62736, 65989, 37988, 78522, 53758, 72627, 39189,\n",
       "       24914, 26553, 40565, 67801, 62832, 42488, 60934, 71538, 14863,\n",
       "       65504, 59445, 62364,  4615, 27081,  4306, 38914, 21799, 24190,\n",
       "       77616, 18703, 67557, 55629, 48128, 32427, 21077, 66561, 49387,\n",
       "       69864, 73310, 50191, 53884, 31068, 46436, 64011,  6862, 34618,\n",
       "       52401, 26603, 50681, 64094,  2449, 37282, 60522, 59215, 72315,\n",
       "        1792, 12817, 17435,  2042, 33143, 38900, 64086,  9373,   244,\n",
       "       37033, 61486, 47221, 60804, 46499, 65948, 19808, 35319, 80000,\n",
       "       73069, 41324, 63725, 67442, 47997, 15140, 46520, 28465, 15482,\n",
       "       58995, 41374, 23282, 70956, 22420, 34816, 49268, 18791, 31911,\n",
       "       19797, 35847, 44455, 17975, 71886, 30353, 15059, 57112, 20176,\n",
       "       36399, 61397, 22078, 54745, 37379, 35060, 21624, 25290, 55105,\n",
       "       38351, 15980, 42304, 75888, 37990,   143, 76596, 13273, 70964,\n",
       "       66275, 49307, 28827, 34888, 64142, 77487, 79739,  2592, 59088,\n",
       "       30586, 44046, 75169, 45841, 56386, 23194, 46863, 59056, 59336,\n",
       "       33453, 10581, 34700, 79176, 74900, 20374, 62580, 42900, 67942,\n",
       "       42882, 77273, 51062, 21477, 41031, 74992, 19136, 62244,   767,\n",
       "       72299, 27710, 10967, 10196, 64177,  2774, 63867,   800,  2122,\n",
       "         860, 77700, 29733, 59144, 64665, 46706, 17986, 32421,  2767,\n",
       "       74522, 55916,  1689, 71013, 33198, 73912, 51124, 60540, 80097,\n",
       "       41489, 64675, 13681, 63462, 49397, 55386, 59294, 73260, 67606,\n",
       "       71489, 53064, 18684, 21480, 25808, 38185, 12846, 53035, 72414,\n",
       "       12142, 66248,  1837, 52241, 72165, 34570,  7917, 54144, 40468,\n",
       "       31259, 60859, 57288, 18890, 24934, 64206, 75412, 40579, 38237,\n",
       "       53725, 42724, 35731, 38396,  3746, 12313,   658, 53705, 79373,\n",
       "        4037, 15360, 62979, 25680, 17525, 22755, 44024, 47732, 17748,\n",
       "       27124, 16850, 63006, 78689, 79344,  8358, 54997, 13392, 68056,\n",
       "       42860, 45957, 63936, 30969, 50408, 58564, 79282, 28882,  9355,\n",
       "       30749, 15938,  7373,  2764, 66460, 14112, 16991, 22899, 57058,\n",
       "       10992, 19414, 62971, 71398, 41777, 40297, 55502, 79482,  5581,\n",
       "       36032, 23143, 16561, 46930, 60678, 71419, 36400, 19589, 46125,\n",
       "       66676, 51726, 37634, 60125,  3692, 62333, 57437, 49008, 78901,\n",
       "       52281,  2339,  7538, 21708, 53982, 33480, 20008, 19570, 26267,\n",
       "       19017])"
      ]
     },
     "execution_count": 162,
     "metadata": {},
     "output_type": "execute_result"
    }
   ],
   "source": [
    "nsamples = 1000\n",
    "#nsamples = 5000\n",
    "downSampleMask = np.random.choice(range(len(ufos)-1), nsamples, replace=False)\n",
    "downSampleMask # take a look"
   ]
  },
  {
   "cell_type": "code",
   "execution_count": 163,
   "metadata": {},
   "outputs": [],
   "source": [
    "ufosDS = ufos.loc[downSampleMask]"
   ]
  },
  {
   "cell_type": "code",
   "execution_count": 164,
   "metadata": {},
   "outputs": [
    {
     "data": {
      "text/html": [
       "<div>\n",
       "<style scoped>\n",
       "    .dataframe tbody tr th:only-of-type {\n",
       "        vertical-align: middle;\n",
       "    }\n",
       "\n",
       "    .dataframe tbody tr th {\n",
       "        vertical-align: top;\n",
       "    }\n",
       "\n",
       "    .dataframe thead th {\n",
       "        text-align: right;\n",
       "    }\n",
       "</style>\n",
       "<table border=\"1\" class=\"dataframe\">\n",
       "  <thead>\n",
       "    <tr style=\"text-align: right;\">\n",
       "      <th></th>\n",
       "      <th>date</th>\n",
       "      <th>city</th>\n",
       "      <th>state</th>\n",
       "      <th>country</th>\n",
       "      <th>shape</th>\n",
       "      <th>duration_seconds</th>\n",
       "      <th>duration</th>\n",
       "      <th>comment</th>\n",
       "      <th>report_date</th>\n",
       "      <th>latitude</th>\n",
       "      <th>longitude</th>\n",
       "    </tr>\n",
       "  </thead>\n",
       "  <tbody>\n",
       "    <tr>\n",
       "      <th>23465</th>\n",
       "      <td>2002-12-08 20:45:00</td>\n",
       "      <td>bellingham</td>\n",
       "      <td>wa</td>\n",
       "      <td>us</td>\n",
       "      <td>other</td>\n",
       "      <td>600.0</td>\n",
       "      <td>5-10 min</td>\n",
       "      <td>The Sound..was incrediable&amp;#44the dogs went cr...</td>\n",
       "      <td>2002-12-23</td>\n",
       "      <td>48.759722</td>\n",
       "      <td>-122.486944</td>\n",
       "    </tr>\n",
       "    <tr>\n",
       "      <th>70339</th>\n",
       "      <td>2013-08-28 10:35:00</td>\n",
       "      <td>munising</td>\n",
       "      <td>mi</td>\n",
       "      <td>us</td>\n",
       "      <td>other</td>\n",
       "      <td>2.0</td>\n",
       "      <td>seconds</td>\n",
       "      <td>Square shaped UFO going over Lake Superior.</td>\n",
       "      <td>2013-08-30</td>\n",
       "      <td>46.411111</td>\n",
       "      <td>-86.647778</td>\n",
       "    </tr>\n",
       "    <tr>\n",
       "      <th>57744</th>\n",
       "      <td>1998-07-18 10:07:00</td>\n",
       "      <td>longmont</td>\n",
       "      <td>co</td>\n",
       "      <td>us</td>\n",
       "      <td>triangle</td>\n",
       "      <td>300.0</td>\n",
       "      <td>3 to 5 minutes</td>\n",
       "      <td>Traingle craft about 60+ feet in diameter was ...</td>\n",
       "      <td>1998-11-21</td>\n",
       "      <td>40.167222</td>\n",
       "      <td>-105.101389</td>\n",
       "    </tr>\n",
       "    <tr>\n",
       "      <th>51811</th>\n",
       "      <td>2012-06-25 00:30:00</td>\n",
       "      <td>north cove</td>\n",
       "      <td>nc</td>\n",
       "      <td>us</td>\n",
       "      <td>oval</td>\n",
       "      <td>10.0</td>\n",
       "      <td>10 seconds</td>\n",
       "      <td>Roundish silver object traveling high rate of ...</td>\n",
       "      <td>2012-08-05</td>\n",
       "      <td>35.835833</td>\n",
       "      <td>-81.989167</td>\n",
       "    </tr>\n",
       "    <tr>\n",
       "      <th>113</th>\n",
       "      <td>2002-10-10 06:00:00</td>\n",
       "      <td>seattle</td>\n",
       "      <td>wa</td>\n",
       "      <td>us</td>\n",
       "      <td>sphere</td>\n",
       "      <td>90.0</td>\n",
       "      <td>90 seconds</td>\n",
       "      <td>Light falls from sky</td>\n",
       "      <td>2002-10-15</td>\n",
       "      <td>47.606389</td>\n",
       "      <td>-122.330833</td>\n",
       "    </tr>\n",
       "    <tr>\n",
       "      <th>...</th>\n",
       "      <td>...</td>\n",
       "      <td>...</td>\n",
       "      <td>...</td>\n",
       "      <td>...</td>\n",
       "      <td>...</td>\n",
       "      <td>...</td>\n",
       "      <td>...</td>\n",
       "      <td>...</td>\n",
       "      <td>...</td>\n",
       "      <td>...</td>\n",
       "      <td>...</td>\n",
       "    </tr>\n",
       "    <tr>\n",
       "      <th>33480</th>\n",
       "      <td>2007-03-25 22:18:00</td>\n",
       "      <td>kingston (canada)</td>\n",
       "      <td>on</td>\n",
       "      <td>ca</td>\n",
       "      <td>other</td>\n",
       "      <td>30.0</td>\n",
       "      <td>30 seconds</td>\n",
       "      <td>Observed in Kingston On. Canada&amp;#44 2 grey lin...</td>\n",
       "      <td>2007-04-27</td>\n",
       "      <td>44.233333</td>\n",
       "      <td>-76.483333</td>\n",
       "    </tr>\n",
       "    <tr>\n",
       "      <th>20008</th>\n",
       "      <td>2004-12-23 00:00:00</td>\n",
       "      <td>chatsworth</td>\n",
       "      <td>ga</td>\n",
       "      <td>us</td>\n",
       "      <td>diamond</td>\n",
       "      <td>60.0</td>\n",
       "      <td>1 minute</td>\n",
       "      <td>i came out an looked cuze of my dogs noise and...</td>\n",
       "      <td>2005-01-11</td>\n",
       "      <td>34.765833</td>\n",
       "      <td>-84.770000</td>\n",
       "    </tr>\n",
       "    <tr>\n",
       "      <th>19570</th>\n",
       "      <td>2002-12-02 05:00:00</td>\n",
       "      <td>wiconisco</td>\n",
       "      <td>pa</td>\n",
       "      <td>us</td>\n",
       "      <td>circle</td>\n",
       "      <td>3.0</td>\n",
       "      <td>3 seconds</td>\n",
       "      <td>A blue round light that had a blue tail and mo...</td>\n",
       "      <td>2002-12-23</td>\n",
       "      <td>40.573333</td>\n",
       "      <td>-76.691667</td>\n",
       "    </tr>\n",
       "    <tr>\n",
       "      <th>26267</th>\n",
       "      <td>2008-02-13 20:30:00</td>\n",
       "      <td>las vegas</td>\n",
       "      <td>nv</td>\n",
       "      <td>us</td>\n",
       "      <td>cigar</td>\n",
       "      <td>360.0</td>\n",
       "      <td>5-6 mins</td>\n",
       "      <td>Object  seen 2/13/2007</td>\n",
       "      <td>2008-03-04</td>\n",
       "      <td>36.175000</td>\n",
       "      <td>-115.136389</td>\n",
       "    </tr>\n",
       "    <tr>\n",
       "      <th>19017</th>\n",
       "      <td>2012-12-19 19:20:00</td>\n",
       "      <td>pelham</td>\n",
       "      <td>nh</td>\n",
       "      <td>us</td>\n",
       "      <td>other</td>\n",
       "      <td>5.0</td>\n",
       "      <td>4-5 seconds</td>\n",
       "      <td>Glowing moon-sized object moves across the sky...</td>\n",
       "      <td>2012-12-21</td>\n",
       "      <td>42.734444</td>\n",
       "      <td>-71.325000</td>\n",
       "    </tr>\n",
       "  </tbody>\n",
       "</table>\n",
       "<p>1000 rows × 11 columns</p>\n",
       "</div>"
      ],
      "text/plain": [
       "                     date               city state country     shape  \\\n",
       "23465 2002-12-08 20:45:00         bellingham    wa      us     other   \n",
       "70339 2013-08-28 10:35:00           munising    mi      us     other   \n",
       "57744 1998-07-18 10:07:00           longmont    co      us  triangle   \n",
       "51811 2012-06-25 00:30:00         north cove    nc      us      oval   \n",
       "113   2002-10-10 06:00:00            seattle    wa      us    sphere   \n",
       "...                   ...                ...   ...     ...       ...   \n",
       "33480 2007-03-25 22:18:00  kingston (canada)    on      ca     other   \n",
       "20008 2004-12-23 00:00:00         chatsworth    ga      us   diamond   \n",
       "19570 2002-12-02 05:00:00          wiconisco    pa      us    circle   \n",
       "26267 2008-02-13 20:30:00          las vegas    nv      us     cigar   \n",
       "19017 2012-12-19 19:20:00             pelham    nh      us     other   \n",
       "\n",
       "       duration_seconds        duration  \\\n",
       "23465             600.0        5-10 min   \n",
       "70339               2.0         seconds   \n",
       "57744             300.0  3 to 5 minutes   \n",
       "51811              10.0      10 seconds   \n",
       "113                90.0      90 seconds   \n",
       "...                 ...             ...   \n",
       "33480              30.0      30 seconds   \n",
       "20008              60.0        1 minute   \n",
       "19570               3.0       3 seconds   \n",
       "26267             360.0        5-6 mins   \n",
       "19017               5.0     4-5 seconds   \n",
       "\n",
       "                                                 comment report_date  \\\n",
       "23465  The Sound..was incrediable&#44the dogs went cr...  2002-12-23   \n",
       "70339        Square shaped UFO going over Lake Superior.  2013-08-30   \n",
       "57744  Traingle craft about 60+ feet in diameter was ...  1998-11-21   \n",
       "51811  Roundish silver object traveling high rate of ...  2012-08-05   \n",
       "113                                 Light falls from sky  2002-10-15   \n",
       "...                                                  ...         ...   \n",
       "33480  Observed in Kingston On. Canada&#44 2 grey lin...  2007-04-27   \n",
       "20008  i came out an looked cuze of my dogs noise and...  2005-01-11   \n",
       "19570  A blue round light that had a blue tail and mo...  2002-12-23   \n",
       "26267                             Object  seen 2/13/2007  2008-03-04   \n",
       "19017  Glowing moon-sized object moves across the sky...  2012-12-21   \n",
       "\n",
       "        latitude   longitude  \n",
       "23465  48.759722 -122.486944  \n",
       "70339  46.411111  -86.647778  \n",
       "57744  40.167222 -105.101389  \n",
       "51811  35.835833  -81.989167  \n",
       "113    47.606389 -122.330833  \n",
       "...          ...         ...  \n",
       "33480  44.233333  -76.483333  \n",
       "20008  34.765833  -84.770000  \n",
       "19570  40.573333  -76.691667  \n",
       "26267  36.175000 -115.136389  \n",
       "19017  42.734444  -71.325000  \n",
       "\n",
       "[1000 rows x 11 columns]"
      ]
     },
     "execution_count": 164,
     "metadata": {},
     "output_type": "execute_result"
    }
   ],
   "source": [
    "ufosDS"
   ]
  },
  {
   "cell_type": "code",
   "execution_count": 165,
   "metadata": {},
   "outputs": [
    {
     "data": {
      "image/png": "[encoded data removed]",
      "text/plain": [
       "<Figure size 432x288 with 1 Axes>"
      ]
     },
     "metadata": {
      "needs_background": "light"
     },
     "output_type": "display_data"
    }
   ],
   "source": [
    "## full data \n",
    "\n",
    "plt.clf() # might need this to \"get rid\" of Michigan data\n",
    "plt.plot(ufos['longitude'],ufos['latitude'],'.')\n",
    "plt.show()"
   ]
  },
  {
   "cell_type": "code",
   "execution_count": 166,
   "metadata": {},
   "outputs": [
    {
     "data": {
      "image/png": "[encoded data removed]",
      "text/plain": [
       "<Figure size 432x288 with 1 Axes>"
      ]
     },
     "metadata": {
      "needs_background": "light"
     },
     "output_type": "display_data"
    }
   ],
   "source": [
    "## downsampled data\n",
    "plt.clf() # might need this to \"get rid\" of Michigan data\n",
    "plt.plot(ufosDS['longitude'],ufosDS['latitude'],'.')\n",
    "plt.show()"
   ]
  },
  {
   "cell_type": "code",
   "execution_count": 167,
   "metadata": {},
   "outputs": [],
   "source": [
    "#@ipywidgets.interact(style = plt.style.available)"
   ]
  },
  {
   "cell_type": "code",
   "execution_count": null,
   "metadata": {},
   "outputs": [],
   "source": []
  },
  {
   "cell_type": "markdown",
   "metadata": {},
   "source": [
    "### Part1: Using traitlets and/or widgets build a notebook that:\n",
    "\n",
    "1. Allows the user to change the x and y fields on a scatter plot from the UFO dataset.  Here the \"fields\" are the names of the columns in the dataset.  (Do you want the user to be able to pick any 2 columns?  Or only certain columns?  Why or why not?). You must support the selection of at least 1 categorical column and at least 1 numerical column in for each of x and y.  Note: you don't have to support both axis having a categorical variable (unless you really want to!).\n",
    "2. Allows the user to pick their colormap.  In class we used the log of the duration in seconds as our color scaling, you can use this or something else (or if you *really* want to get fancy you can let the user decide by using a widget!)"
   ]
  },
  {
   "cell_type": "code",
   "execution_count": 168,
   "metadata": {},
   "outputs": [
    {
     "data": {
      "text/plain": [
       "Index(['date', 'city', 'state', 'country', 'shape', 'duration_seconds',\n",
       "       'duration', 'comment', 'report_date', 'latitude', 'longitude'],\n",
       "      dtype='object')"
      ]
     },
     "execution_count": 168,
     "metadata": {},
     "output_type": "execute_result"
    }
   ],
   "source": [
    "ufosDS.columns  ## take a look at column names "
   ]
  },
  {
   "cell_type": "code",
   "execution_count": 169,
   "metadata": {},
   "outputs": [
    {
     "data": {
      "text/plain": [
       "<Figure size 432x288 with 0 Axes>"
      ]
     },
     "metadata": {},
     "output_type": "display_data"
    },
    {
     "data": {
      "application/vnd.jupyter.widget-view+json": {
       "model_id": "37dd60b3392346c78384dc4d53e470a0",
       "version_major": 2,
       "version_minor": 0
      },
      "text/plain": [
       "interactive(children=(Dropdown(description='x', index=7, options=('date', 'state', 'country', 'shape', 'durati…"
      ]
     },
     "metadata": {},
     "output_type": "display_data"
    }
   ],
   "source": [
    "plt.clf() # might need this to \"get rid\" of Michigan data\n",
    "\n",
    "##filter out the unwanted columns\n",
    "\n",
    "filter_out =['city', 'comment','duration']\n",
    "x_select = []\n",
    "y_select = []\n",
    "\n",
    "for e in (ufosDS.columns):\n",
    "    if e not in filter_out:\n",
    "        x_select.append(e)\n",
    "        y_select.append(e)\n",
    "\n",
    "## interactive plot usig widgets\n",
    "\n",
    "@ipywidgets.interact(x = x_select, y= y_select, colormap = plt.colormaps(),sym_log = False, color_range = (1.0, 352.0, 1.0))\n",
    "\n",
    "def plot(x = 'longitude',y = 'latitude', color_range = 352, colormap = 'jet',sym_log = False):\n",
    "    if sym_log:\n",
    "        norm = mpl_colors.SymLogNorm(10)\n",
    "    else:\n",
    "        norm = mpl_colors.Normalize()\n",
    "        \n",
    "    fig, ax = plt.subplots(figsize=(8,6))\n",
    "    CAX = ax.scatter(ufosDS[x],ufosDS[y], cmap=colormap, norm = norm, c=np.log10(ufosDS['duration_seconds']))\n",
    "    CAX.set_clim(-color_range, color_range)\n",
    "    fig.suptitle('Interactive Scatter Plot: UFO Dataset', fontsize=15)\n",
    "    plt.colorbar(CAX, extend = 'both')\n",
    "\n",
    "    plt.show()"
   ]
  },
  {
   "cell_type": "markdown",
   "metadata": {},
   "source": [
    "#### Write up:\n",
    "\n",
    "The column values such as city, comment, duration are filtered out from the user selection. The city column contains data which cannot be intrepreted / dirty data. The comments columns has textual data/ qulitative data which cannot be visualized against catergorial/ numerical dataset. \n",
    "The column duration and duration is filtered out as the data set is not continuous and has lot of unwanted symbols. Though Scatterplots can be used to plot both categorical and numerical data, user need to analyze the data column well to glean meanigful insights. Idelally, user must select or choose one catergorial value with numerical value for better outcomes. \n",
    "\n",
    "@ipywidgets.interact() creates the user interface. \n",
    "The .colormap() function from matplotlib is pulled through @ipywidgets, allowing users to select their colormap through the widget\n",
    "\n",
    ".@interact decorator function is used to toggle symmetric log color mapping on and off. Specifying the use of log10 for the series'duration_seconds' ensures the readability of the plot."
   ]
  },
  {
   "cell_type": "code",
   "execution_count": null,
   "metadata": {},
   "outputs": [],
   "source": []
  },
  {
   "cell_type": "markdown",
   "metadata": {},
   "source": [
    "### Part 2: Build a second widget that displays binned, aggregate values of a column where you can change:\n",
    "\n",
    "1.The field to \"bin\".  (Do you want the user to be able to pick any 2 columns?  Or only certain columns?  Why or why not?). \n",
    "You must support the selection of at least 1 categorical column and at least 1 numerical column.\n",
    "\n",
    "2.For numerical variables: The number of bins."
   ]
  },
  {
   "cell_type": "code",
   "execution_count": 170,
   "metadata": {},
   "outputs": [
    {
     "name": "stdout",
     "output_type": "stream",
     "text": [
      "['date', 'city', 'state', 'country', 'shape', 'duration_seconds', 'duration', 'comment', 'report_date', 'latitude', 'longitude', 'Null']\n"
     ]
    }
   ],
   "source": [
    "a =list(ufosDS.columns)\n",
    "a.append('Null')\n",
    "print(a)\n",
    "#list(np.linspace(0,200,21 , dtype='int'))"
   ]
  },
  {
   "cell_type": "code",
   "execution_count": 171,
   "metadata": {},
   "outputs": [
    {
     "data": {
      "text/plain": [
       "<Figure size 432x288 with 0 Axes>"
      ]
     },
     "metadata": {},
     "output_type": "display_data"
    },
    {
     "data": {
      "application/vnd.jupyter.widget-view+json": {
       "model_id": "0f0baa83f5ae47229a4e15fcd6eae63d",
       "version_major": 2,
       "version_minor": 0
      },
      "text/plain": [
       "interactive(children=(Dropdown(description='bins', index=1, options=(5, 10, 20, 30), value=10), Dropdown(descr…"
      ]
     },
     "metadata": {},
     "output_type": "display_data"
    }
   ],
   "source": [
    "plt.clf() # might need this to \"get rid\" of Michigan data\n",
    "\n",
    "##filter out the coloumns\n",
    "filter_out =['city', 'comment', 'duration']\n",
    "x_select = []\n",
    "#y_select = []\n",
    "for e in (ufosDS.columns):\n",
    "    if e not in irrelevant_options:\n",
    "        x_select.append(e)\n",
    "        #y_select.append(e)\n",
    "\n",
    "@ipywidgets.interact(x_axis = x_select,y_axis = ufosDS.columns,bins=[5,10,20,30],columns=a)\n",
    "\n",
    "def plot2(bins=10,x_axis='latitude',y_axis=None, bin_color=\"black\"):\n",
    "    fig, ax = plt.subplots(figsize=(8,6))\n",
    "    if y_axis:\n",
    "        plt.bar(ufosDS[x_axis],ufosDS[y_axis])\n",
    "    else:\n",
    "        ufosDS.hist(column=x_axis, ax=ax,bins=bins)\n",
    "    \n",
    "    \n",
    "    fig.suptitle('Intercative view of UFO: Histogram', fontsize=23)\n",
    "    plt.xlabel(x_axis, fontsize=20)\n",
    "    plt.ylabel(\"Instances\", fontsize=20)\n",
    "    \n",
    "    plt.show()"
   ]
  },
  {
   "cell_type": "code",
   "execution_count": 172,
   "metadata": {},
   "outputs": [
    {
     "data": {
      "image/png": "[encoded data removed]",
      "text/plain": [
       "<Figure size 432x288 with 1 Axes>"
      ]
     },
     "metadata": {
      "needs_background": "light"
     },
     "output_type": "display_data"
    }
   ],
   "source": [
    "plt.clf()\n",
    "#visual representation\n",
    "plt.scatter(ufosDS['longitude'],ufosDS['latitude'], c=np.log10(ufosDS['duration_seconds']), cmap='rainbow')\n",
    "plt.show()"
   ]
  },
  {
   "cell_type": "markdown",
   "metadata": {},
   "source": [
    "#### Write up:\n",
    "\n",
    "1. The irrelevant columns are filtered out such as city, duration, duration_seconds, comment to get some consitency in the data\n",
    "2. Histogram gives us the distribution of non-discrete variables. It is used to plot the frequency of numerical data.\n",
    "3. To create the histogram, plt.subplots indicates that multiple plots will be used. With ax.hist the dataframe iterates over columns \n",
    "4. Numerical values such as  'duration_seconds', 'latitude', 'longitude' are used for analysis in histogram bins\n",
    "5. The user have liberty to vary the bin values to plot the histogram graph with numerical values.\n",
    "6. For example, the x_axis has latitude difference with smaller bin values as compared to larger bin vlaues.\n",
    "7. we need to consider the bar graph as histogram takes only 1 column , for 2 columns.\n",
    "8. With bar graph we can plot catergorical values, for instance,city vs latitude changes the values of latitude along with different cities \n",
    "9. Calling @ipywidgets.interact creates the user interface. The new values created for bin count and bin color call on the parameters\n",
    "\n"
   ]
  },
  {
   "cell_type": "code",
   "execution_count": null,
   "metadata": {},
   "outputs": [],
   "source": []
  },
  {
   "cell_type": "code",
   "execution_count": null,
   "metadata": {},
   "outputs": [],
   "source": []
  }
 ],
 "metadata": {
  "kernelspec": {
   "display_name": "Python 3",
   "language": "python",
   "name": "python3"
  },
  "language_info": {
   "codemirror_mode": {
    "name": "ipython",
    "version": 3
   },
   "file_extension": ".py",
   "mimetype": "text/x-python",
   "name": "python",
   "nbconvert_exporter": "python",
   "pygments_lexer": "ipython3",
   "version": "3.7.4"
  }
 },
 "nbformat": 4,
 "nbformat_minor": 2
}
